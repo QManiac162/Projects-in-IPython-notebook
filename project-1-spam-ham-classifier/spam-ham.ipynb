{
 "cells": [
  {
   "cell_type": "code",
   "execution_count": 1,
   "metadata": {},
   "outputs": [],
   "source": [
    "# Importing the necessary libraries\n",
    "\n",
    "import numpy as np\n",
    "import pandas as pd\n",
    "import seaborn as sb\n",
    "import matplotlib.pyplot as plt"
   ]
  },
  {
   "cell_type": "code",
   "execution_count": 2,
   "metadata": {},
   "outputs": [
    {
     "data": {
      "text/html": [
       "<div>\n",
       "<style scoped>\n",
       "    .dataframe tbody tr th:only-of-type {\n",
       "        vertical-align: middle;\n",
       "    }\n",
       "\n",
       "    .dataframe tbody tr th {\n",
       "        vertical-align: top;\n",
       "    }\n",
       "\n",
       "    .dataframe thead th {\n",
       "        text-align: right;\n",
       "    }\n",
       "</style>\n",
       "<table border=\"1\" class=\"dataframe\">\n",
       "  <thead>\n",
       "    <tr style=\"text-align: right;\">\n",
       "      <th></th>\n",
       "      <th>label</th>\n",
       "      <th>text</th>\n",
       "    </tr>\n",
       "  </thead>\n",
       "  <tbody>\n",
       "    <tr>\n",
       "      <th>0</th>\n",
       "      <td>ham</td>\n",
       "      <td>Go until jurong point, crazy.. Available only ...</td>\n",
       "    </tr>\n",
       "    <tr>\n",
       "      <th>1</th>\n",
       "      <td>ham</td>\n",
       "      <td>Ok lar... Joking wif u oni...</td>\n",
       "    </tr>\n",
       "    <tr>\n",
       "      <th>2</th>\n",
       "      <td>spam</td>\n",
       "      <td>Free entry in 2 a wkly comp to win FA Cup fina...</td>\n",
       "    </tr>\n",
       "    <tr>\n",
       "      <th>3</th>\n",
       "      <td>ham</td>\n",
       "      <td>U dun say so early hor... U c already then say...</td>\n",
       "    </tr>\n",
       "    <tr>\n",
       "      <th>4</th>\n",
       "      <td>ham</td>\n",
       "      <td>Nah I don't think he goes to usf, he lives aro...</td>\n",
       "    </tr>\n",
       "    <tr>\n",
       "      <th>...</th>\n",
       "      <td>...</td>\n",
       "      <td>...</td>\n",
       "    </tr>\n",
       "    <tr>\n",
       "      <th>5567</th>\n",
       "      <td>spam</td>\n",
       "      <td>This is the 2nd time we have tried 2 contact u...</td>\n",
       "    </tr>\n",
       "    <tr>\n",
       "      <th>5568</th>\n",
       "      <td>ham</td>\n",
       "      <td>Will Ì_ b going to esplanade fr home?</td>\n",
       "    </tr>\n",
       "    <tr>\n",
       "      <th>5569</th>\n",
       "      <td>ham</td>\n",
       "      <td>Pity, * was in mood for that. So...any other s...</td>\n",
       "    </tr>\n",
       "    <tr>\n",
       "      <th>5570</th>\n",
       "      <td>ham</td>\n",
       "      <td>The guy did some bitching but I acted like i'd...</td>\n",
       "    </tr>\n",
       "    <tr>\n",
       "      <th>5571</th>\n",
       "      <td>ham</td>\n",
       "      <td>Rofl. Its true to its name</td>\n",
       "    </tr>\n",
       "  </tbody>\n",
       "</table>\n",
       "<p>5572 rows × 2 columns</p>\n",
       "</div>"
      ],
      "text/plain": [
       "     label                                               text\n",
       "0      ham  Go until jurong point, crazy.. Available only ...\n",
       "1      ham                      Ok lar... Joking wif u oni...\n",
       "2     spam  Free entry in 2 a wkly comp to win FA Cup fina...\n",
       "3      ham  U dun say so early hor... U c already then say...\n",
       "4      ham  Nah I don't think he goes to usf, he lives aro...\n",
       "...    ...                                                ...\n",
       "5567  spam  This is the 2nd time we have tried 2 contact u...\n",
       "5568   ham              Will Ì_ b going to esplanade fr home?\n",
       "5569   ham  Pity, * was in mood for that. So...any other s...\n",
       "5570   ham  The guy did some bitching but I acted like i'd...\n",
       "5571   ham                         Rofl. Its true to its name\n",
       "\n",
       "[5572 rows x 2 columns]"
      ]
     },
     "execution_count": 2,
     "metadata": {},
     "output_type": "execute_result"
    }
   ],
   "source": [
    "# Loading the data files\n",
    "\n",
    "data = pd.read_csv(\"spam-ham.csv\", encoding = \"latin-1\")\n",
    "data = data[['v1', 'v2']]\n",
    "data = data.rename(columns = {'v1': 'label', 'v2': 'text'})\n",
    "data"
   ]
  },
  {
   "cell_type": "code",
   "execution_count": 3,
   "metadata": {},
   "outputs": [
    {
     "data": {
      "text/plain": [
       "'\\nperforming case normalisation (like converting any uppercase to lowercase), removing stop words and stemming using pre-built tools\\n'"
      ]
     },
     "execution_count": 3,
     "metadata": {},
     "output_type": "execute_result"
    }
   ],
   "source": [
    "# Performing data cleaning\n",
    "'''\n",
    "performing case normalisation (like converting any uppercase to lowercase), removing stop words and stemming using pre-built tools\n",
    "'''\n",
    "\n",
    "# from nltk import stem\n",
    "# from nltk.corpus import stopwords\n",
    "# stemmer  = stem.SnowballStemmer('english')\n",
    "# stopwords = set(stopwords.words('english'))\n",
    "\n",
    "# def review_messages(msg):\n",
    "#     msg = msg.lower()\n",
    "#     msg = [word for word in msg.split() if word not in stopwords]\n",
    "#     msg = \"\".join([stemmer.stem(word) for word in msg])\n",
    "#     return msg\n",
    "\n",
    "# data['text'] = data['text'].apply(review_messages)\n",
    "# data"
   ]
  },
  {
   "cell_type": "code",
   "execution_count": 4,
   "metadata": {},
   "outputs": [
    {
     "name": "stdout",
     "output_type": "stream",
     "text": [
      "<class 'pandas.core.frame.DataFrame'>\n",
      "RangeIndex: 5572 entries, 0 to 5571\n",
      "Data columns (total 2 columns):\n",
      " #   Column  Non-Null Count  Dtype \n",
      "---  ------  --------------  ----- \n",
      " 0   label   5572 non-null   object\n",
      " 1   text    5572 non-null   object\n",
      "dtypes: object(2)\n",
      "memory usage: 87.2+ KB\n",
      "None \n",
      "\n",
      "\n",
      "11144 \n",
      "\n",
      "\n",
      "(5572, 2) \n",
      "\n",
      "\n",
      "ham     4825\n",
      "spam     747\n",
      "Name: label, dtype: int64 \n",
      "\n",
      "\n",
      "AxesSubplot(0.125,0.11;0.775x0.77) \n",
      "\n",
      "\n",
      "['Go until jurong point, crazy.. Available only in bugis n great world la e buffet... Cine there got amore wat...'\n",
      " 'Ok lar... Joking wif u oni...'\n",
      " \"Free entry in 2 a wkly comp to win FA Cup final tkts 21st May 2005. Text FA to 87121 to receive entry question(std txt rate)T&C's apply 08452810075over18's\"\n",
      " ... 'Pity, * was in mood for that. So...any other suggestions?'\n",
      " \"The guy did some bitching but I acted like i'd be interested in buying something else next week and he gave it to us for free\"\n",
      " 'Rofl. Its true to its name'] \n",
      "\n",
      " ['ham' 'ham' 'spam' ... 'ham' 'ham' 'ham']\n"
     ]
    },
    {
     "data": {
      "image/png": "[encoded data removed]",
      "text/plain": [
       "<Figure size 640x480 with 1 Axes>"
      ]
     },
     "metadata": {},
     "output_type": "display_data"
    }
   ],
   "source": [
    "# Performing a bit of data analysis by visualizing the content\n",
    "\n",
    "print(data.info(), \"\\n\\n\")\n",
    "\n",
    "print(data.size, \"\\n\\n\")\n",
    "\n",
    "print(data.shape, \"\\n\\n\")\n",
    "\n",
    "print(data.label.value_counts(), \"\\n\\n\")\n",
    "\n",
    "print(data.label.value_counts().plot(kind='bar'), \"\\n\\n\")\n",
    "\n",
    "x, y = data.iloc[:, 1].values, data.iloc[:, 0].values\n",
    "print(x, \"\\n\\n\", y)"
   ]
  },
  {
   "cell_type": "code",
   "execution_count": 5,
   "metadata": {},
   "outputs": [
    {
     "name": "stdout",
     "output_type": "stream",
     "text": [
      "['ham' 'ham' 'ham' ... 'ham' 'ham' 'spam'] \n",
      "\n",
      "['ham' 'ham' 'ham' ... 'ham' 'ham' 'spam'] \n",
      "\n",
      "\n",
      "accuracy score: 97.84637473079684 %\n"
     ]
    }
   ],
   "source": [
    "# Vectorizing the text\n",
    "'''\n",
    "Here, TF-IDF vectorizer is used, (aka Term Frequency- Inverse Term Document Frequency) which takes into account the importance of each term to the document\n",
    "'''\n",
    "\n",
    "from sklearn.model_selection import train_test_split as tts\n",
    "x_train, x_test, y_train, y_test = tts(x, y, random_state=0)\n",
    "\n",
    "from sklearn.feature_extraction.text import TfidfVectorizer\n",
    "vect = TfidfVectorizer()\n",
    "x_train_v, x_test_v = vect.fit_transform(x_train), vect.transform(x_test)\n",
    "\n",
    "from sklearn.svm import SVC\n",
    "model = SVC()\n",
    "model.fit(x_train_v, y_train)\n",
    "y_pred = model.predict(x_test_v)\n",
    "print(y_pred, \"\\n\")\n",
    "print(y_test, \"\\n\\n\")\n",
    "\n",
    "from sklearn.metrics import accuracy_score\n",
    "print(\"accuracy score:\", accuracy_score(y_pred, y_test)*100, \"%\")"
   ]
  },
  {
   "cell_type": "code",
   "execution_count": 6,
   "metadata": {},
   "outputs": [
    {
     "name": "stdout",
     "output_type": "stream",
     "text": [
      "['ham' 'ham' 'ham' ... 'ham' 'ham' 'spam'] \n",
      "\n",
      "['ham' 'ham' 'ham' ... 'ham' 'ham' 'spam'] \n",
      "\n",
      "\n",
      "accuracy score: 97.84637473079684 %\n"
     ]
    }
   ],
   "source": [
    "''' \n",
    "Building a pipeline model over the Tf-IDF vectorizer\n",
    "'''\n",
    "\n",
    "from sklearn.pipeline import make_pipeline as mp\n",
    "text_model = mp(TfidfVectorizer(), SVC())\n",
    "text_model.fit(x_train, y_train)\n",
    "y_pred_mp = text_model.predict(x_test)\n",
    "print(y_pred_mp, \"\\n\")\n",
    "print(y_test, \"\\n\\n\")\n",
    "\n",
    "print(\"accuracy score:\", accuracy_score(y_pred_mp, y_test)*100, \"%\")"
   ]
  },
  {
   "cell_type": "code",
   "execution_count": 7,
   "metadata": {},
   "outputs": [
    {
     "data": {
      "text/plain": [
       "['spam-ham']"
      ]
     },
     "execution_count": 7,
     "metadata": {},
     "output_type": "execute_result"
    }
   ],
   "source": [
    "# Seriealizing the object text_model\n",
    "\n",
    "import joblib\n",
    "joblib.dump(text_model, 'spam-ham')"
   ]
  },
  {
   "cell_type": "code",
   "execution_count": 8,
   "metadata": {},
   "outputs": [
    {
     "name": "stdout",
     "output_type": "stream",
     "text": [
      "Overwriting spam-ham-app.py\n"
     ]
    }
   ],
   "source": [
    "%%writefile spam-ham-app.py\n",
    "import streamlit as sl\n",
    "import joblib\n",
    "model = joblib.load('spam-ham')\n",
    "sl.title('SPAM-HAM CLASSIFIER')\n",
    "ip = sl.text_input('ENTER THE MESSAGE')\n",
    "op = model.predict([ip])\n",
    "if sl.button('PREDICT'):\n",
    "    sl.title(op[0])"
   ]
  },
  {
   "cell_type": "code",
   "execution_count": 9,
   "metadata": {},
   "outputs": [
    {
     "name": "stdout",
     "output_type": "stream",
     "text": [
      "^C\n"
     ]
    }
   ],
   "source": [
    "# Run the interactive app in web browser \n",
    "\n",
    "!streamlit run spam-ham-app.py & npx localtunnel --port 8501"
   ]
  }
 ],
 "metadata": {
  "kernelspec": {
   "display_name": "Python 3",
   "language": "python",
   "name": "python3"
  },
  "language_info": {
   "codemirror_mode": {
    "name": "ipython",
    "version": 3
   },
   "file_extension": ".py",
   "mimetype": "text/x-python",
   "name": "python",
   "nbconvert_exporter": "python",
   "pygments_lexer": "ipython3",
   "version": "3.11.2"
  },
  "orig_nbformat": 4
 },
 "nbformat": 4,
 "nbformat_minor": 2
}
