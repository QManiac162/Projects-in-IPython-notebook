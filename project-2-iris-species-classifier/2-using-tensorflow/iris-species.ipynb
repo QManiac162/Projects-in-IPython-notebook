{
 "cells": [
  {
   "cell_type": "code",
   "execution_count": 1,
   "metadata": {},
   "outputs": [
    {
     "name": "stdout",
     "output_type": "stream",
     "text": [
      "WARNING:tensorflow:From c:\\Users\\DEEP\\AppData\\Local\\Programs\\Python\\Python311\\Lib\\site-packages\\keras\\src\\losses.py:2976: The name tf.losses.sparse_softmax_cross_entropy is deprecated. Please use tf.compat.v1.losses.sparse_softmax_cross_entropy instead.\n",
      "\n",
      "<class 'pandas.core.frame.DataFrame'>\n",
      "RangeIndex: 150 entries, 0 to 149\n",
      "Data columns (total 5 columns):\n",
      " #   Column        Non-Null Count  Dtype  \n",
      "---  ------        --------------  -----  \n",
      " 0   sepal.length  150 non-null    float64\n",
      " 1   sepal.width   150 non-null    float64\n",
      " 2   petal.length  150 non-null    float64\n",
      " 3   petal.width   150 non-null    float64\n",
      " 4   variety       150 non-null    object \n",
      "dtypes: float64(4), object(1)\n",
      "memory usage: 6.0+ KB\n",
      "================================================================================\n"
     ]
    },
    {
     "data": {
      "text/html": [
       "<div>\n",
       "<style scoped>\n",
       "    .dataframe tbody tr th:only-of-type {\n",
       "        vertical-align: middle;\n",
       "    }\n",
       "\n",
       "    .dataframe tbody tr th {\n",
       "        vertical-align: top;\n",
       "    }\n",
       "\n",
       "    .dataframe thead th {\n",
       "        text-align: right;\n",
       "    }\n",
       "</style>\n",
       "<table border=\"1\" class=\"dataframe\">\n",
       "  <thead>\n",
       "    <tr style=\"text-align: right;\">\n",
       "      <th></th>\n",
       "      <th>sepal.length</th>\n",
       "      <th>sepal.width</th>\n",
       "      <th>petal.length</th>\n",
       "      <th>petal.width</th>\n",
       "      <th>variety</th>\n",
       "    </tr>\n",
       "  </thead>\n",
       "  <tbody>\n",
       "    <tr>\n",
       "      <th>0</th>\n",
       "      <td>5.1</td>\n",
       "      <td>3.5</td>\n",
       "      <td>1.4</td>\n",
       "      <td>0.2</td>\n",
       "      <td>Setosa</td>\n",
       "    </tr>\n",
       "    <tr>\n",
       "      <th>1</th>\n",
       "      <td>4.9</td>\n",
       "      <td>3.0</td>\n",
       "      <td>1.4</td>\n",
       "      <td>0.2</td>\n",
       "      <td>Setosa</td>\n",
       "    </tr>\n",
       "    <tr>\n",
       "      <th>2</th>\n",
       "      <td>4.7</td>\n",
       "      <td>3.2</td>\n",
       "      <td>1.3</td>\n",
       "      <td>0.2</td>\n",
       "      <td>Setosa</td>\n",
       "    </tr>\n",
       "    <tr>\n",
       "      <th>3</th>\n",
       "      <td>4.6</td>\n",
       "      <td>3.1</td>\n",
       "      <td>1.5</td>\n",
       "      <td>0.2</td>\n",
       "      <td>Setosa</td>\n",
       "    </tr>\n",
       "    <tr>\n",
       "      <th>4</th>\n",
       "      <td>5.0</td>\n",
       "      <td>3.6</td>\n",
       "      <td>1.4</td>\n",
       "      <td>0.2</td>\n",
       "      <td>Setosa</td>\n",
       "    </tr>\n",
       "    <tr>\n",
       "      <th>5</th>\n",
       "      <td>5.4</td>\n",
       "      <td>3.9</td>\n",
       "      <td>1.7</td>\n",
       "      <td>0.4</td>\n",
       "      <td>Setosa</td>\n",
       "    </tr>\n",
       "    <tr>\n",
       "      <th>6</th>\n",
       "      <td>4.6</td>\n",
       "      <td>3.4</td>\n",
       "      <td>1.4</td>\n",
       "      <td>0.3</td>\n",
       "      <td>Setosa</td>\n",
       "    </tr>\n",
       "    <tr>\n",
       "      <th>7</th>\n",
       "      <td>5.0</td>\n",
       "      <td>3.4</td>\n",
       "      <td>1.5</td>\n",
       "      <td>0.2</td>\n",
       "      <td>Setosa</td>\n",
       "    </tr>\n",
       "    <tr>\n",
       "      <th>8</th>\n",
       "      <td>4.4</td>\n",
       "      <td>2.9</td>\n",
       "      <td>1.4</td>\n",
       "      <td>0.2</td>\n",
       "      <td>Setosa</td>\n",
       "    </tr>\n",
       "    <tr>\n",
       "      <th>9</th>\n",
       "      <td>4.9</td>\n",
       "      <td>3.1</td>\n",
       "      <td>1.5</td>\n",
       "      <td>0.1</td>\n",
       "      <td>Setosa</td>\n",
       "    </tr>\n",
       "  </tbody>\n",
       "</table>\n",
       "</div>"
      ],
      "text/plain": [
       "   sepal.length  sepal.width  petal.length  petal.width variety\n",
       "0           5.1          3.5           1.4          0.2  Setosa\n",
       "1           4.9          3.0           1.4          0.2  Setosa\n",
       "2           4.7          3.2           1.3          0.2  Setosa\n",
       "3           4.6          3.1           1.5          0.2  Setosa\n",
       "4           5.0          3.6           1.4          0.2  Setosa\n",
       "5           5.4          3.9           1.7          0.4  Setosa\n",
       "6           4.6          3.4           1.4          0.3  Setosa\n",
       "7           5.0          3.4           1.5          0.2  Setosa\n",
       "8           4.4          2.9           1.4          0.2  Setosa\n",
       "9           4.9          3.1           1.5          0.1  Setosa"
      ]
     },
     "execution_count": 1,
     "metadata": {},
     "output_type": "execute_result"
    }
   ],
   "source": [
    "import pandas as pd\n",
    "import numpy as np\n",
    "import os\n",
    "import streamlit as st\n",
    "from sklearn.preprocessing import StandardScaler\n",
    "import plotly.graph_objects as go\n",
    "import plotly.express as px\n",
    "from sklearn.decomposition import PCA\n",
    "\n",
    "# Plotting libraries\n",
    "import matplotlib.pyplot as plt\n",
    "\n",
    "\n",
    "# SKLearn libraries\n",
    "from sklearn.preprocessing import LabelEncoder\n",
    "from sklearn.model_selection import train_test_split\n",
    "\n",
    "# Tensorflow libraries\n",
    "import tensorflow as tf\n",
    "from tensorflow import keras\n",
    "from tensorflow.keras.models import Sequential\n",
    "\n",
    "# Data file path\n",
    "FILE_PATH = 'iris_species.csv'\n",
    "\n",
    "# Dataframe from csv file\n",
    "iris_data = pd.read_csv(FILE_PATH, header=0)\n",
    "\n",
    "iris_data.info()\n",
    "print(\"==\"*40)\n",
    "iris_data.head(10)"
   ]
  },
  {
   "cell_type": "code",
   "execution_count": 2,
   "metadata": {},
   "outputs": [
    {
     "name": "stderr",
     "output_type": "stream",
     "text": [
      "c:\\Users\\DEEP\\AppData\\Local\\Programs\\Python\\Python311\\Lib\\site-packages\\sklearn\\preprocessing\\_label.py:114: DataConversionWarning: A column-vector y was passed when a 1d array was expected. Please change the shape of y to (n_samples, ), for example using ravel().\n",
      "  y = column_or_1d(y, warn=True)\n"
     ]
    }
   ],
   "source": [
    "X = iris_data.loc[:, iris_data.columns != 'variety']\n",
    "y = iris_data.loc[:, ['variety']]\n",
    "\n",
    "y_enc = LabelEncoder().fit_transform(y)\n",
    "# Converting the label into a matrix form\n",
    "y_label = tf.keras.utils.to_categorical(y_enc)"
   ]
  },
  {
   "cell_type": "code",
   "execution_count": 3,
   "metadata": {},
   "outputs": [],
   "source": [
    "# X_train_full, X_test, y_train_full, y_test = train_test_split(X, y_label, test_size=0.15)\n",
    "\n",
    "# Validation set\n",
    "# X_train, X_valid, y_train, y_valid = train_test_split(X_train_full, y_train_full)\n",
    "\n",
    "X_train, X_test, y_train, y_test = train_test_split(X, y_label, test_size=0.3)"
   ]
  },
  {
   "cell_type": "code",
   "execution_count": 4,
   "metadata": {},
   "outputs": [
    {
     "name": "stdout",
     "output_type": "stream",
     "text": [
      "Train shape : (105, 4), Y Train : (105, 3)\n",
      "(4,)\n"
     ]
    }
   ],
   "source": [
    "print(f\"Train shape : {X_train.shape}, Y Train : {y_train.shape}\")\n",
    "print(X_train.shape[1:])"
   ]
  },
  {
   "cell_type": "code",
   "execution_count": 5,
   "metadata": {},
   "outputs": [],
   "source": [
    "def get_model():\n",
    "    model = Sequential([\n",
    "        keras.layers.Input(shape=X_train.shape[1:]),\n",
    "        keras.layers.Dense(1000, activation='relu'),\n",
    "        keras.layers.Dense(500, activation='relu',),\n",
    "        keras.layers.Dense(300, activation='relu'),\n",
    "        keras.layers.Dropout(0.2),\n",
    "        keras.layers.Dense(3, activation='softmax')\n",
    "    ])\n",
    "    \n",
    "    return model"
   ]
  },
  {
   "cell_type": "code",
   "execution_count": 6,
   "metadata": {},
   "outputs": [
    {
     "name": "stdout",
     "output_type": "stream",
     "text": [
      "WARNING:tensorflow:From c:\\Users\\DEEP\\AppData\\Local\\Programs\\Python\\Python311\\Lib\\site-packages\\keras\\src\\backend.py:1398: The name tf.executing_eagerly_outside_functions is deprecated. Please use tf.compat.v1.executing_eagerly_outside_functions instead.\n",
      "\n"
     ]
    },
    {
     "name": "stdout",
     "output_type": "stream",
     "text": [
      "WARNING:tensorflow:From c:\\Users\\DEEP\\AppData\\Local\\Programs\\Python\\Python311\\Lib\\site-packages\\keras\\src\\optimizers\\__init__.py:309: The name tf.train.Optimizer is deprecated. Please use tf.compat.v1.train.Optimizer instead.\n",
      "\n",
      "Model: \"sequential\"\n",
      "_________________________________________________________________\n",
      " Layer (type)                Output Shape              Param #   \n",
      "=================================================================\n",
      " dense (Dense)               (None, 1000)              5000      \n",
      "                                                                 \n",
      " dense_1 (Dense)             (None, 500)               500500    \n",
      "                                                                 \n",
      " dense_2 (Dense)             (None, 300)               150300    \n",
      "                                                                 \n",
      " dropout (Dropout)           (None, 300)               0         \n",
      "                                                                 \n",
      " dense_3 (Dense)             (None, 3)                 903       \n",
      "                                                                 \n",
      "=================================================================\n",
      "Total params: 656703 (2.51 MB)\n",
      "Trainable params: 656703 (2.51 MB)\n",
      "Non-trainable params: 0 (0.00 Byte)\n",
      "_________________________________________________________________\n"
     ]
    }
   ],
   "source": [
    "model = get_model()\n",
    "# Compile the model\n",
    "model.compile(optimizer='adam', \n",
    "              loss=keras.losses.CategoricalCrossentropy(),\n",
    "              metrics=['accuracy'])\n",
    "model.summary()"
   ]
  },
  {
   "cell_type": "code",
   "execution_count": 7,
   "metadata": {},
   "outputs": [
    {
     "name": "stdout",
     "output_type": "stream",
     "text": [
      "Epoch 1/30\n",
      "WARNING:tensorflow:From c:\\Users\\DEEP\\AppData\\Local\\Programs\\Python\\Python311\\Lib\\site-packages\\keras\\src\\utils\\tf_utils.py:492: The name tf.ragged.RaggedTensorValue is deprecated. Please use tf.compat.v1.ragged.RaggedTensorValue instead.\n",
      "\n",
      "WARNING:tensorflow:From c:\\Users\\DEEP\\AppData\\Local\\Programs\\Python\\Python311\\Lib\\site-packages\\keras\\src\\engine\\base_layer_utils.py:384: The name tf.executing_eagerly_outside_functions is deprecated. Please use tf.compat.v1.executing_eagerly_outside_functions instead.\n",
      "\n",
      "4/4 [==============================] - 1s 90ms/step - loss: 1.0383 - accuracy: 0.4571 - val_loss: 0.7620 - val_accuracy: 0.9333\n",
      "Epoch 2/30\n",
      "4/4 [==============================] - 0s 24ms/step - loss: 0.6814 - accuracy: 0.7429 - val_loss: 0.5436 - val_accuracy: 0.6667\n",
      "Epoch 3/30\n",
      "4/4 [==============================] - 0s 23ms/step - loss: 0.5669 - accuracy: 0.6667 - val_loss: 0.3890 - val_accuracy: 0.8444\n",
      "Epoch 4/30\n",
      "4/4 [==============================] - 0s 22ms/step - loss: 0.4035 - accuracy: 0.8952 - val_loss: 0.2875 - val_accuracy: 0.9778\n",
      "Epoch 5/30\n",
      "4/4 [==============================] - 0s 20ms/step - loss: 0.3173 - accuracy: 0.9429 - val_loss: 0.2363 - val_accuracy: 0.9778\n",
      "Epoch 6/30\n",
      "4/4 [==============================] - 0s 20ms/step - loss: 0.2753 - accuracy: 0.9429 - val_loss: 0.1852 - val_accuracy: 0.9778\n",
      "Epoch 7/30\n",
      "4/4 [==============================] - 0s 20ms/step - loss: 0.2192 - accuracy: 0.9238 - val_loss: 0.1652 - val_accuracy: 0.9778\n",
      "Epoch 8/30\n",
      "4/4 [==============================] - 0s 22ms/step - loss: 0.1827 - accuracy: 0.9429 - val_loss: 0.1569 - val_accuracy: 0.9333\n",
      "Epoch 9/30\n",
      "4/4 [==============================] - 0s 20ms/step - loss: 0.1762 - accuracy: 0.9143 - val_loss: 0.2357 - val_accuracy: 0.8667\n",
      "Epoch 10/30\n",
      "4/4 [==============================] - 0s 21ms/step - loss: 0.1997 - accuracy: 0.9143 - val_loss: 0.1073 - val_accuracy: 0.9778\n",
      "Epoch 11/30\n",
      "4/4 [==============================] - 0s 19ms/step - loss: 0.1373 - accuracy: 0.9524 - val_loss: 0.1276 - val_accuracy: 0.9778\n",
      "Epoch 12/30\n",
      "4/4 [==============================] - 0s 24ms/step - loss: 0.1257 - accuracy: 0.9619 - val_loss: 0.0997 - val_accuracy: 0.9778\n",
      "Epoch 13/30\n",
      "4/4 [==============================] - 0s 24ms/step - loss: 0.0945 - accuracy: 0.9810 - val_loss: 0.1347 - val_accuracy: 0.9778\n",
      "Epoch 14/30\n",
      "4/4 [==============================] - 0s 19ms/step - loss: 0.1038 - accuracy: 0.9619 - val_loss: 0.0964 - val_accuracy: 0.9778\n",
      "Epoch 15/30\n",
      "4/4 [==============================] - 0s 19ms/step - loss: 0.1046 - accuracy: 0.9524 - val_loss: 0.1084 - val_accuracy: 0.9333\n",
      "Epoch 16/30\n",
      "4/4 [==============================] - 0s 21ms/step - loss: 0.1383 - accuracy: 0.9333 - val_loss: 0.1484 - val_accuracy: 0.9556\n",
      "Epoch 17/30\n",
      "4/4 [==============================] - 0s 19ms/step - loss: 0.1296 - accuracy: 0.9429 - val_loss: 0.1198 - val_accuracy: 0.9333\n",
      "Epoch 18/30\n",
      "4/4 [==============================] - 0s 19ms/step - loss: 0.1672 - accuracy: 0.9429 - val_loss: 0.2018 - val_accuracy: 0.9111\n",
      "Epoch 19/30\n",
      "4/4 [==============================] - 0s 21ms/step - loss: 0.1687 - accuracy: 0.9238 - val_loss: 0.0957 - val_accuracy: 0.9333\n",
      "Epoch 20/30\n",
      "4/4 [==============================] - 0s 20ms/step - loss: 0.1477 - accuracy: 0.9238 - val_loss: 0.1582 - val_accuracy: 0.9556\n",
      "Epoch 21/30\n",
      "4/4 [==============================] - 0s 20ms/step - loss: 0.2508 - accuracy: 0.8952 - val_loss: 0.0923 - val_accuracy: 0.9778\n",
      "Epoch 22/30\n",
      "4/4 [==============================] - 0s 21ms/step - loss: 0.5050 - accuracy: 0.8381 - val_loss: 0.1080 - val_accuracy: 0.9333\n",
      "Epoch 23/30\n",
      "4/4 [==============================] - 0s 19ms/step - loss: 0.1829 - accuracy: 0.9333 - val_loss: 0.3443 - val_accuracy: 0.8444\n",
      "Epoch 24/30\n",
      "4/4 [==============================] - 0s 20ms/step - loss: 0.2313 - accuracy: 0.9048 - val_loss: 0.0988 - val_accuracy: 0.9778\n",
      "Epoch 25/30\n",
      "4/4 [==============================] - 0s 21ms/step - loss: 0.1486 - accuracy: 0.9333 - val_loss: 0.1052 - val_accuracy: 0.9333\n",
      "Epoch 26/30\n",
      "4/4 [==============================] - 0s 20ms/step - loss: 0.1174 - accuracy: 0.9524 - val_loss: 0.1449 - val_accuracy: 0.9556\n",
      "Epoch 27/30\n",
      "4/4 [==============================] - 0s 21ms/step - loss: 0.1094 - accuracy: 0.9714 - val_loss: 0.0962 - val_accuracy: 0.9778\n",
      "Epoch 28/30\n",
      "4/4 [==============================] - 0s 19ms/step - loss: 0.0780 - accuracy: 0.9810 - val_loss: 0.0924 - val_accuracy: 0.9778\n",
      "Epoch 29/30\n",
      "4/4 [==============================] - 0s 19ms/step - loss: 0.0700 - accuracy: 0.9810 - val_loss: 0.0913 - val_accuracy: 0.9778\n",
      "Epoch 30/30\n",
      "4/4 [==============================] - 0s 22ms/step - loss: 0.0788 - accuracy: 0.9714 - val_loss: 0.0988 - val_accuracy: 0.9778\n"
     ]
    }
   ],
   "source": [
    "history = model.fit(X_train, y_train, epochs=30, validation_data=(X_test, y_test), verbose=1)"
   ]
  },
  {
   "cell_type": "code",
   "execution_count": 8,
   "metadata": {},
   "outputs": [
    {
     "name": "stdout",
     "output_type": "stream",
     "text": [
      "2/2 [==============================] - 0s 4ms/step - loss: 0.0988 - accuracy: 0.9778\n"
     ]
    },
    {
     "data": {
      "text/plain": [
       "[0.09875109046697617, 0.9777777791023254]"
      ]
     },
     "execution_count": 8,
     "metadata": {},
     "output_type": "execute_result"
    }
   ],
   "source": [
    "model.evaluate(X_test, y_test)"
   ]
  },
  {
   "cell_type": "markdown",
   "metadata": {},
   "source": [
    "Performance Monitor"
   ]
  },
  {
   "cell_type": "code",
   "execution_count": 9,
   "metadata": {},
   "outputs": [
    {
     "data": {
      "image/png": "[encoded data removed]",
      "text/plain": [
       "<Figure size 1000x600 with 1 Axes>"
      ]
     },
     "metadata": {},
     "output_type": "display_data"
    }
   ],
   "source": [
    "pd.DataFrame(history.history).plot(figsize=(10,6))\n",
    "plt.grid(True)\n",
    "plt.gca().set_ylim(0, 1)\n",
    "plt.show()"
   ]
  },
  {
   "cell_type": "code",
   "execution_count": 10,
   "metadata": {},
   "outputs": [
    {
     "name": "stdout",
     "output_type": "stream",
     "text": [
      "1/1 [==============================] - 0s 73ms/step\n",
      "Actual data : [[1. 0. 0.]\n",
      " [0. 1. 0.]\n",
      " [1. 0. 0.]]\n",
      "0\n",
      "2\n",
      "0\n"
     ]
    }
   ],
   "source": [
    "new_data, y_actual = X_test[:3], y_test[:3]\n",
    "\n",
    "y_proba = model.predict(new_data)\n",
    "\n",
    "print(f\"Actual data : {y_actual}\")\n",
    "\n",
    "for pred in y_proba:\n",
    "    print(np.argmax(pred))"
   ]
  },
  {
   "cell_type": "code",
   "execution_count": 11,
   "metadata": {},
   "outputs": [],
   "source": [
    "# scaler will be used to scale user input.\n",
    "def get_scaler():\n",
    "    # Clean data\n",
    "    X = iris_data.iloc[:, :4]\n",
    "    y = np.zeros(shape=(X.shape[0], 3))\n",
    "\n",
    "    for i, val in enumerate(iris_data['variety']):\n",
    "        if val=='Virginica':\n",
    "            y[i,:] = np.array([1, 0, 0])\n",
    "        elif val=='Versicolor':\n",
    "            y[i,:] = np.array([0, 1, 0])\n",
    "        elif val=='Setosa':\n",
    "            y[i,:] = np.array([0, 0, 1])\n",
    "\n",
    "    X_train, X_test, y_train, y_test = train_test_split(\n",
    "        X, y, test_size=0.2, random_state=100)\n",
    "\n",
    "    # Scale data\n",
    "    scaler = StandardScaler()\n",
    "    scaler.fit(X_train)\n",
    "    return scaler\n",
    "\n",
    "scaler = get_scaler()"
   ]
  },
  {
   "cell_type": "code",
   "execution_count": 12,
   "metadata": {},
   "outputs": [],
   "source": [
    "model.save(\"iris_model.keras\")"
   ]
  }
 ],
 "metadata": {
  "kernelspec": {
   "display_name": "Python 3",
   "language": "python",
   "name": "python3"
  },
  "language_info": {
   "codemirror_mode": {
    "name": "ipython",
    "version": 3
   },
   "file_extension": ".py",
   "mimetype": "text/x-python",
   "name": "python",
   "nbconvert_exporter": "python",
   "pygments_lexer": "ipython3",
   "version": "3.11.8"
  }
 },
 "nbformat": 4,
 "nbformat_minor": 2
}
