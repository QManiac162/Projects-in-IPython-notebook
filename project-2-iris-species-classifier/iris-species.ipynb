{
 "cells": [
  {
   "cell_type": "code",
   "execution_count": null,
   "metadata": {},
   "outputs": [],
   "source": [
    "# importing the dataset for iris classification\n",
    "\n",
    "import pandas as pd\n",
    "import numpy as np\n",
    "data = pd.read_csv('iris-species.csv')\n",
    "data.head()"
   ]
  },
  {
   "cell_type": "code",
   "execution_count": null,
   "metadata": {},
   "outputs": [],
   "source": [
    "# Dropping unnecessary columns\n",
    "\n",
    "data.drop('Id', axis = 1, inplace = True)\n",
    "''' \n",
    "optional: to aid training of the model and ofcourse the typing efforts\n",
    "data['Species']= data['Species'].map({'Iris-setosa':0, 'Iris-versicolor':1, 'Iris-virginica':2})\n",
    "'''"
   ]
  },
  {
   "cell_type": "code",
   "execution_count": null,
   "metadata": {},
   "outputs": [],
   "source": [
    "# Splitting the data into columns and applying the 'Random Forest Classifier model' \n",
    "\n",
    "x = data.iloc[:, :-1] # trained column\n",
    "y = data.iloc[:, -1] # target column\n",
    "\n",
    "from sklearn.model_selection import train_test_split as tts\n",
    "x_train, x_test, y_train, y_test = tts(x, y, test_size = 0.3, random_state = 0)\n",
    "\n",
    "from sklearn.ensemble import RandomForestClassifier\n",
    "RFC = RandomForestClassifier()\n",
    "RFC.fit(x_train, y_train)\n",
    "y_pred = RFC.predict(x_test)\n",
    "\n",
    "from sklearn.metrics import accuracy_score \n",
    "ac = accuracy_score(y_test, y_pred)\n",
    "print(\"accuracy score: \", ac*100, \"%\")"
   ]
  },
  {
   "cell_type": "code",
   "execution_count": null,
   "metadata": {},
   "outputs": [],
   "source": [
    "# pickling the model in order to deploy into streamlit\n",
    "\n",
    "import pickle\n",
    "pickle_out = open('RFC.pkl', 'wb')\n",
    "pickle.dump(RFC, pickle_out)\n",
    "pickle_out.close()"
   ]
  },
  {
   "cell_type": "code",
   "execution_count": null,
   "metadata": {},
   "outputs": [],
   "source": [
    "%%writefile iris-species-app.py\n",
    "import streamlit as sl\n",
    "import pickle\n",
    "\n",
    "# loading the model to predict data\n",
    "pickle_in = open('RFC.pkl', 'rb')\n",
    "RFC = pickle.load(pickle_in)\n",
    "\n",
    "def welcome():\n",
    "    return '! YOUR PRESENCE IS DETECTED !'\n",
    "\n",
    "# creating the function which will do the prediction from user inputs\n",
    "def classification(sepal_length, sepal_width, petal_length, petal_width):\n",
    "    classification = RFC.predict([[sepal_length, sepal_width, petal_length, petal_width]])\n",
    "    print(classification)\n",
    "    return classification\n",
    "\n",
    "# the main function which defines the webpage\n",
    "def main():\n",
    "    html_temp = \"\"\"\n",
    "    <div style = \"background-color: cyan; padding: 13px\">\n",
    "    <h1 style = \"color: black; text-align: centre;\"> IRIS-SPECIES-CLASSIFICATION </h1>\n",
    "    \"\"\"\n",
    "\n",
    "    sl.markdown(html_temp, unsafe_allow_html = True)\n",
    "    sepal_length = sl.text_input(\"SEPAL LENGTH\")\n",
    "    sepal_width = sl.text_input(\"SEPAL WIDTH\")\n",
    "    petal_length = sl.text_input(\"PETAL LENGTH\")\n",
    "    petal_width = sl.text_input(\"PETAL WIDTH\")\n",
    "    result = \"\"\n",
    "\n",
    "    if sl.button(\"PREDICT\"):\n",
    "        result = classification(sepal_length, sepal_width, petal_length, petal_width)\n",
    "    sl.success(\"{}\" .format(result))\n",
    "\n",
    "if __name__=='__main__':\n",
    "    main()"
   ]
  },
  {
   "cell_type": "code",
   "execution_count": 6,
   "metadata": {},
   "outputs": [],
   "source": [
    "!streamlit run iris-species-app.py & npx localtunnel --port 8501"
   ]
  }
 ],
 "metadata": {
  "kernelspec": {
   "display_name": "Python 3",
   "language": "python",
   "name": "python3"
  },
  "language_info": {
   "codemirror_mode": {
    "name": "ipython",
    "version": 3
   },
   "file_extension": ".py",
   "mimetype": "text/x-python",
   "name": "python",
   "nbconvert_exporter": "python",
   "pygments_lexer": "ipython3",
   "version": "3.11.5"
  },
  "orig_nbformat": 4
 },
 "nbformat": 4,
 "nbformat_minor": 2
}
